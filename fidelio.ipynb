{
 "cells": [
  {
   "cell_type": "markdown",
   "metadata": {},
   "source": [
    "# Fidelio demo notebook"
   ]
  },
  {
   "cell_type": "markdown",
   "metadata": {},
   "source": [
    "https://www.math.utah.edu/~pa/math/p10000.html"
   ]
  },
  {
   "cell_type": "code",
   "execution_count": 1,
   "metadata": {
    "collapsed": false
   },
   "outputs": [
    {
     "data": {
      "application/javascript": [
       "IPython.notebook.set_autosave_interval(0)"
      ]
     },
     "metadata": {},
     "output_type": "display_data"
    },
    {
     "name": "stdout",
     "output_type": "stream",
     "text": [
      "Autosave disabled\n"
     ]
    }
   ],
   "source": [
    "%autosave 0\n",
    "%load_ext autoreload\n",
    "%autoreload 2\n",
    "from fidelio_functions import *"
   ]
  },
  {
   "cell_type": "markdown",
   "metadata": {},
   "source": [
    "## Choose a test message"
   ]
  },
  {
   "cell_type": "code",
   "execution_count": 2,
   "metadata": {
    "collapsed": false
   },
   "outputs": [],
   "source": [
    "text = \"ALL YOUR BASE ARE BELONG TO US\""
   ]
  },
  {
   "cell_type": "markdown",
   "metadata": {},
   "source": [
    "## Convert text to list of integers and back again\n",
    "Pre-defined alphabets are `ALPHABET26`, `ALPHABET42`, `ALPHABET96`.  \n",
    "Default is `ALPHABET96`, which uses ASCII chars 32-127.  \n",
    "Characters not in the selected alphabet will be discarded."
   ]
  },
  {
   "cell_type": "code",
   "execution_count": 3,
   "metadata": {
    "collapsed": false
   },
   "outputs": [
    {
     "name": "stdout",
     "output_type": "stream",
     "text": [
      "[0, 11, 11, 24, 14, 20, 17, 1, 0, 18, 4, 0, 17, 4, 1, 4, 11, 14, 13, 6, 19, 14, 20, 18]\n",
      "ALLYOURBASEAREBELONGTOUS\n"
     ]
    }
   ],
   "source": [
    "test_digits = text_to_digits(text,ALPHABET26)\n",
    "print(test_digits)\n",
    "test_text = digits_to_text(test_digits,ALPHABET26)\n",
    "print(test_text)"
   ]
  },
  {
   "cell_type": "markdown",
   "metadata": {},
   "source": [
    "## Caesar cipher"
   ]
  },
  {
   "cell_type": "code",
   "execution_count": 4,
   "metadata": {
    "collapsed": false
   },
   "outputs": [
    {
     "name": "stdout",
     "output_type": "stream",
     "text": [
      "DOO#\\RXU#EDVH#DUH#EHORQJ#WR#XV\n",
      "ALL YOUR BASE ARE BELONG TO US\n"
     ]
    }
   ],
   "source": [
    "cipher = caesar(text,3)\n",
    "print(cipher)\n",
    "plain = caesar(cipher,3,decrypt=True)\n",
    "print(plain)"
   ]
  },
  {
   "cell_type": "markdown",
   "metadata": {},
   "source": [
    "## ROT13 cipher with 26-character alphabet"
   ]
  },
  {
   "cell_type": "code",
   "execution_count": 5,
   "metadata": {
    "collapsed": false
   },
   "outputs": [
    {
     "name": "stdout",
     "output_type": "stream",
     "text": [
      "NYYLBHEONFRNERORYBATGBHF\n",
      "ALLYOURBASEAREBELONGTOUS\n"
     ]
    }
   ],
   "source": [
    "cipher = caesar(text,13,alphabet=ALPHABET26)\n",
    "print(cipher)\n",
    "plain = caesar(cipher,13,decrypt=True,alphabet=ALPHABET26)\n",
    "print(plain)"
   ]
  },
  {
   "cell_type": "markdown",
   "metadata": {},
   "source": [
    "## Dodgson cipher (aka Vigenère cipher, Bellaso cipher)"
   ]
  },
  {
   "cell_type": "code",
   "execution_count": 6,
   "metadata": {
    "collapsed": false
   },
   "outputs": [
    {
     "name": "stdout",
     "output_type": "stream",
     "text": [
      "gupE%x$xIffnOg{iEnn{uwkE xO{|\n",
      "ALL YOUR BASE ARE BELONG TO US\n"
     ]
    }
   ],
   "source": [
    "cipher = dodgson(text,'FIDELIO')\n",
    "print(cipher)\n",
    "plain = dodgson(cipher,'FIDELIO',decrypt=True)\n",
    "print(plain)"
   ]
  },
  {
   "cell_type": "markdown",
   "metadata": {
    "collapsed": true
   },
   "source": [
    "## Test `packetize()` and `unpack()` functions"
   ]
  },
  {
   "cell_type": "code",
   "execution_count": 7,
   "metadata": {
    "collapsed": false
   },
   "outputs": [
    {
     "name": "stdout",
     "output_type": "stream",
     "text": [
      "[41, 78, 0, 84, 72, 69, 0, 66, 82, 73, 71, 72, 84, 0, 77, 79, 82, 78, 73, 78, 71, 0, 79, 70, 0, 76, 73, 70, 69, 12, 0, 77, 89, 0, 76, 73, 66, 69, 82, 84, 89, 12, 0, 65, 76, 65, 83, 1, 0, 87, 65, 83, 0, 76, 79, 83, 84, 26]\n"
     ]
    }
   ],
   "source": [
    "text = \"\"\"\n",
    "In the bright morning of life, my liberty, alas! was lost:\n",
    "\"\"\"\n",
    "digits = text_to_digits(text)\n",
    "print(digits)"
   ]
  },
  {
   "cell_type": "code",
   "execution_count": 8,
   "metadata": {
    "collapsed": false
   },
   "outputs": [
    {
     "name": "stdout",
     "output_type": "stream",
     "text": [
      "[41780084, 72690066, 82737172, 84007779, 82787378, 71007970, 767370, 69120077, 89007673, 66698284, 89120065, 76658301, 876583, 767983, 84269114]\n",
      "[41, 78, 0, 84, 72, 69, 0, 66, 82, 73, 71, 72, 84, 0, 77, 79, 82, 78, 73, 78, 71, 0, 79, 70, 0, 76, 73, 70, 69, 12, 0, 77, 89, 0, 76, 73, 66, 69, 82, 84, 89, 12, 0, 65, 76, 65, 83, 1, 0, 87, 65, 83, 0, 76, 79, 83, 84, 26]\n",
      "In the bright morning of life, my liberty, alas! was lost:\n"
     ]
    }
   ],
   "source": [
    "packets = packetize(digits)\n",
    "print(packets)\n",
    "unpacked = unpacketize(packets)\n",
    "print(unpacked)\n",
    "test_text = digits_to_text(unpacked)\n",
    "print(test_text)"
   ]
  },
  {
   "cell_type": "markdown",
   "metadata": {},
   "source": [
    "## Generate RSA keys"
   ]
  },
  {
   "cell_type": "code",
   "execution_count": 33,
   "metadata": {
    "collapsed": false
   },
   "outputs": [
    {
     "name": "stdout",
     "output_type": "stream",
     "text": [
      "104473 50021\n"
     ]
    }
   ],
   "source": [
    "# Choose two prime numbers from Primes.txt\n",
    "primes = random_primes(2)\n",
    "p = primes[0]\n",
    "q = primes[1]\n",
    "print(p,q)"
   ]
  },
  {
   "cell_type": "code",
   "execution_count": null,
   "metadata": {
    "collapsed": true
   },
   "outputs": [],
   "source": [
    "# Calculate the \"RSA number\" N and \"Euler's totient\" phi(N).\n",
    "# Euler's totient is the number of positive ints < N which are relatively prime to N."
   ]
  },
  {
   "cell_type": "code",
   "execution_count": null,
   "metadata": {
    "collapsed": true
   },
   "outputs": [],
   "source": []
  },
  {
   "cell_type": "code",
   "execution_count": 10,
   "metadata": {
    "collapsed": false
   },
   "outputs": [
    {
     "name": "stdout",
     "output_type": "stream",
     "text": [
      "72\n"
     ]
    }
   ],
   "source": [
    "# Calculate \"Euler's totient\" of N.\n",
    "# This is the number of positive integers less than N which are relatively prime to N.\n",
    "# For any prime p, totient(p) = p-1.\n",
    "# For any p,q which are relatively prime, totient(pq) = totient(p) * totient(q).\n",
    "# For our purposes, that means all we have to calculate is...\n",
    "totient = (p-1) * (q-1)\n",
    "print(totient)"
   ]
  },
  {
   "cell_type": "code",
   "execution_count": 11,
   "metadata": {
    "collapsed": true
   },
   "outputs": [],
   "source": [
    "# Choose a public key. This number must satisfy two rules:\n",
    "# 1. public_key < totient\n",
    "# 2. public_key is relatively prime to totient.\n",
    "# Fidelio always chooses a prime so we don't have to check #2.\n",
    "public_key = 17"
   ]
  },
  {
   "cell_type": "code",
   "execution_count": 12,
   "metadata": {
    "collapsed": true
   },
   "outputs": [],
   "source": [
    "# Find the corresponding private key such that\n",
    "# (public_key * private_key) % totient = 1.\n",
    "# Use the \"extended Euclidean algorithm.\"\n"
   ]
  },
  {
   "cell_type": "code",
   "execution_count": 25,
   "metadata": {
    "collapsed": false
   },
   "outputs": [
    {
     "data": {
      "text/plain": [
       "(1336864031, 1336790712)"
      ]
     },
     "execution_count": 25,
     "metadata": {},
     "output_type": "execute_result"
    }
   ],
   "source": [
    "rsa_and_totient()"
   ]
  },
  {
   "cell_type": "code",
   "execution_count": 31,
   "metadata": {
    "collapsed": false
   },
   "outputs": [
    {
     "data": {
      "text/plain": [
       "[18427, 70457]"
      ]
     },
     "execution_count": 31,
     "metadata": {},
     "output_type": "execute_result"
    }
   ],
   "source": [
    "random_primes(2)"
   ]
  },
  {
   "cell_type": "code",
   "execution_count": null,
   "metadata": {
    "collapsed": true
   },
   "outputs": [],
   "source": []
  },
  {
   "cell_type": "code",
   "execution_count": null,
   "metadata": {
    "collapsed": true
   },
   "outputs": [],
   "source": []
  },
  {
   "cell_type": "code",
   "execution_count": null,
   "metadata": {
    "collapsed": true
   },
   "outputs": [],
   "source": []
  },
  {
   "cell_type": "code",
   "execution_count": null,
   "metadata": {
    "collapsed": true
   },
   "outputs": [],
   "source": []
  },
  {
   "cell_type": "code",
   "execution_count": null,
   "metadata": {
    "collapsed": true
   },
   "outputs": [],
   "source": []
  },
  {
   "cell_type": "code",
   "execution_count": null,
   "metadata": {
    "collapsed": true
   },
   "outputs": [],
   "source": []
  },
  {
   "cell_type": "code",
   "execution_count": null,
   "metadata": {
    "collapsed": true
   },
   "outputs": [],
   "source": []
  },
  {
   "cell_type": "code",
   "execution_count": null,
   "metadata": {
    "collapsed": true
   },
   "outputs": [],
   "source": []
  },
  {
   "cell_type": "code",
   "execution_count": null,
   "metadata": {
    "collapsed": true
   },
   "outputs": [],
   "source": []
  }
 ],
 "metadata": {
  "anaconda-cloud": {},
  "kernelspec": {
   "display_name": "Python [conda root]",
   "language": "python",
   "name": "conda-root-py"
  },
  "language_info": {
   "codemirror_mode": {
    "name": "ipython",
    "version": 3
   },
   "file_extension": ".py",
   "mimetype": "text/x-python",
   "name": "python",
   "nbconvert_exporter": "python",
   "pygments_lexer": "ipython3",
   "version": "3.5.2"
  }
 },
 "nbformat": 4,
 "nbformat_minor": 1
}
