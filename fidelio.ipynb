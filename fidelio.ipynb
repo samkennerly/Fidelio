{
 "cells": [
  {
   "cell_type": "markdown",
   "metadata": {},
   "source": [
    "# Fidelio demo notebook"
   ]
  },
  {
   "cell_type": "code",
   "execution_count": 1,
   "metadata": {
    "collapsed": false
   },
   "outputs": [],
   "source": [
    "from fidelio_functions import *"
   ]
  },
  {
   "cell_type": "markdown",
   "metadata": {},
   "source": [
    "## Choose an alphabet\n",
    "Before sending any messages, we must agree on a way to represent characters as numbers.  \n",
    "Fidelio comes with 3 pre-defined maps: `ALPHABET26`, `ALPHABET42`, and `ALPHABET94`.  \n",
    "Each of these is a tuple for converting int -> char.  \n",
    "`char_to_num()` creates a dictionary for converting char -> int."
   ]
  },
  {
   "cell_type": "code",
   "execution_count": 2,
   "metadata": {
    "collapsed": false
   },
   "outputs": [
    {
     "name": "stdout",
     "output_type": "stream",
     "text": [
      "('A', 'B', 'C', 'D', 'E', 'F', 'G', 'H', 'I', 'J', 'K', 'L', 'M', 'N', 'O', 'P', 'Q', 'R', 'S', 'T', 'U', 'V', 'W', 'X', 'Y', 'Z')\n"
     ]
    },
    {
     "data": {
      "text/plain": [
       "'A'"
      ]
     },
     "execution_count": 2,
     "metadata": {},
     "output_type": "execute_result"
    }
   ],
   "source": [
    "print(ALPHABET26)\n",
    "ALPHABET26[0]"
   ]
  },
  {
   "cell_type": "code",
   "execution_count": 3,
   "metadata": {
    "collapsed": false
   },
   "outputs": [
    {
     "name": "stdout",
     "output_type": "stream",
     "text": [
      "A 0\n",
      "B 1\n",
      "C 2\n",
      "D 3\n",
      "E 4\n",
      "F 5\n",
      "G 6\n",
      "H 7\n",
      "I 8\n",
      "J 9\n",
      "K 10\n",
      "L 11\n",
      "M 12\n",
      "N 13\n",
      "O 14\n",
      "P 15\n",
      "Q 16\n",
      "R 17\n",
      "S 18\n",
      "T 19\n",
      "U 20\n",
      "V 21\n",
      "W 22\n",
      "X 23\n",
      "Y 24\n",
      "Z 25\n"
     ]
    }
   ],
   "source": [
    "dict26 = char_to_num(ALPHABET26)\n",
    "for key, val in sorted(dict26.items()):\n",
    "    print(key,val)"
   ]
  },
  {
   "cell_type": "markdown",
   "metadata": {},
   "source": [
    "## Character encoding: convert a string to a list of integers and back\n",
    "Fidelio uses integers for [character encoding](https://en.wikipedia.org/wiki/Character_encoding).  \n",
    "The default alphabet is `ALPHABET94`, which accepts ASCII chars 32 through 125.  \n",
    "Characters not in the selected alphabet will be discarded."
   ]
  },
  {
   "cell_type": "code",
   "execution_count": 4,
   "metadata": {
    "collapsed": false
   },
   "outputs": [
    {
     "name": "stdout",
     "output_type": "stream",
     "text": [
      "WHERE IS RPT WHERE IS TASK FORCE THIRTY FOUR RR THE WORLD WONDERS?\n"
     ]
    }
   ],
   "source": [
    "message = \"WHERE IS RPT WHERE IS TASK FORCE THIRTY FOUR RR THE WORLD WONDERS?\"\n",
    "print(message)"
   ]
  },
  {
   "cell_type": "code",
   "execution_count": 5,
   "metadata": {
    "collapsed": false
   },
   "outputs": [
    {
     "name": "stdout",
     "output_type": "stream",
     "text": [
      "[55, 40, 37, 50, 37, 0, 41, 51, 0, 50, 48, 52, 0, 55, 40, 37, 50, 37, 0, 41, 51, 0, 52, 33, 51, 43, 0, 38, 47, 50, 35, 37, 0, 52, 40, 41, 50, 52, 57, 0, 38, 47, 53, 50, 0, 50, 50, 0, 52, 40, 37, 0, 55, 47, 50, 44, 36, 0, 55, 47, 46, 36, 37, 50, 51, 31] \n",
      "\n",
      "WHERE IS RPT WHERE IS TASK FORCE THIRTY FOUR RR THE WORLD WONDERS?\n"
     ]
    }
   ],
   "source": [
    "# Default 94-character alphabet\n",
    "digits = text_to_digits(message)\n",
    "print(digits,'\\n')\n",
    "\n",
    "test_text = digits_to_text(digits)\n",
    "print(test_text)"
   ]
  },
  {
   "cell_type": "code",
   "execution_count": 6,
   "metadata": {
    "collapsed": false
   },
   "outputs": [
    {
     "name": "stdout",
     "output_type": "stream",
     "text": [
      "[22, 7, 4, 17, 4, 8, 18, 17, 15, 19, 22, 7, 4, 17, 4, 8, 18, 19, 0, 18, 10, 5, 14, 17, 2, 4, 19, 7, 8, 17, 19, 24, 5, 14, 20, 17, 17, 17, 19, 7, 4, 22, 14, 17, 11, 3, 22, 14, 13, 3, 4, 17, 18] \n",
      "\n",
      "WHEREISRPTWHEREISTASKFORCETHIRTYFOURRRTHEWORLDWONDERS\n"
     ]
    }
   ],
   "source": [
    "# 26-character alphabet: capital letters only, no special characters\n",
    "digits = text_to_digits(message,ALPHABET26)\n",
    "print(digits,'\\n')\n",
    "\n",
    "test_text = digits_to_text(digits,ALPHABET26)\n",
    "print(test_text)"
   ]
  },
  {
   "cell_type": "markdown",
   "metadata": {},
   "source": [
    "## Classic Caesar cipher:  subtract 3 (mod 26)\n",
    "The [Caesar cipher](https://en.wikipedia.org/wiki/Caesar_cipher) shifts each letter in the alphabet back 3 places.  \n",
    "The alphabet \"wraps around,\" meaning the letters `ABC` are mapped to `XYZ`.  \n",
    "\n",
    "To reproduce the Caesar cipher with Fidelio, first use `ALPHABET26` to convert text to integers.  \n",
    "Then subtract 3 using base 26 [modular arithmetic](https://en.wikipedia.org/wiki/Modular_arithmetic) and convert back to text.  \n",
    "\n",
    "To decrypt, do the same, but with a shift of +3 instead of -3."
   ]
  },
  {
   "cell_type": "code",
   "execution_count": 7,
   "metadata": {
    "collapsed": false
   },
   "outputs": [
    {
     "name": "stdout",
     "output_type": "stream",
     "text": [
      "TEBOBFPOMQTEBOBFPQXPHCLOZBQEFOQVCLROOOQEBTLOIATLKABOP\n",
      "WHEREISRPTWHEREISTASKFORCETHIRTYFOURRRTHEWORLDWONDERS\n"
     ]
    }
   ],
   "source": [
    "ciphertext = caesar(message,-3,alphabet=ALPHABET26)\n",
    "print(ciphertext)\n",
    "\n",
    "plaintext = caesar(ciphertext,3,alphabet=ALPHABET26)\n",
    "print(plaintext)"
   ]
  },
  {
   "cell_type": "markdown",
   "metadata": {},
   "source": [
    "## ROT13 cipher: add 13 (mod 26)\n",
    "[ROT13](https://en.wikipedia.org/wiki/ROT13) is like the classic Caesar cipher, but it shifts each letter 13 characters forward: $m \\rightarrow (m + 13) \\% 26$.  \n",
    "Shifting each letter 13 characters backward gives the same effect: $m \\rightarrow (m-13)\\%26 = (m+13)\\%26$.  \n",
    "The ROT13 transformation is its own inverse."
   ]
  },
  {
   "cell_type": "code",
   "execution_count": 8,
   "metadata": {
    "collapsed": false
   },
   "outputs": [
    {
     "name": "stdout",
     "output_type": "stream",
     "text": [
      "JURERVFECGJURERVFGNFXSBEPRGUVEGLSBHEEEGURJBEYQJBAQREF\n",
      "WHEREISRPTWHEREISTASKFORCETHIRTYFOURRRTHEWORLDWONDERS\n",
      "WHEREISRPTWHEREISTASKFORCETHIRTYFOURRRTHEWORLDWONDERS\n"
     ]
    }
   ],
   "source": [
    "ciphertext = caesar(message,13,alphabet=ALPHABET26)\n",
    "print(ciphertext)\n",
    "\n",
    "plaintext = caesar(ciphertext,-13,alphabet=ALPHABET26)\n",
    "print(plaintext)\n",
    "\n",
    "# With a 26-character alphabet, +13 and -13 are the same shift\n",
    "plaintext = caesar(ciphertext,13,alphabet=ALPHABET26)\n",
    "print(plaintext)"
   ]
  },
  {
   "cell_type": "code",
   "execution_count": 9,
   "metadata": {
    "collapsed": false
   },
   "outputs": [
    {
     "data": {
      "text/plain": [
       "'WHERE IS RPT WHERE IS TASK FORCE THIRTY FOUR RR THE WORLD WONDERS?'"
      ]
     },
     "execution_count": 9,
     "metadata": {},
     "output_type": "execute_result"
    }
   ],
   "source": [
    "# With the default 94-character alphabet, ROT47 is its own inverse\n",
    "caesar(caesar(message,47),47)"
   ]
  },
  {
   "cell_type": "markdown",
   "metadata": {},
   "source": [
    "## Fancy Caesar: add $x$ (mod $n$)\n",
    "Fidelio can create Caesar-type ciphers with any shift and any alphabet.  "
   ]
  },
  {
   "cell_type": "code",
   "execution_count": 10,
   "metadata": {
    "collapsed": false
   },
   "outputs": [
    {
     "name": "stdout",
     "output_type": "stream",
     "text": [
      "O 7J72AK2JHL2O 7J72AK2L3KC28GJ572L AJLQ28GMJ2JJ2L 72OGJD62OGF67JKU\n",
      "WHERE IS RPT WHERE IS TASK FORCE THIRTY FOUR RR THE WORLD WONDERS?\n"
     ]
    }
   ],
   "source": [
    "ciphertext = caesar(message,34,alphabet=ALPHABET42)\n",
    "print(ciphertext)\n",
    "\n",
    "plaintext = caesar(ciphertext,-34,alphabet=ALPHABET42)\n",
    "print(plaintext)"
   ]
  },
  {
   "cell_type": "markdown",
   "metadata": {},
   "source": [
    "## Cracking Caesar ciphers\n",
    "The shift amount is effectively the password for a Caesar cipher.  \n",
    "There aren't many possible passwords, so Caesar ciphers are vulnerable to brute-force attacks."
   ]
  },
  {
   "cell_type": "code",
   "execution_count": 11,
   "metadata": {
    "collapsed": false
   },
   "outputs": [
    {
     "name": "stdout",
     "output_type": "stream",
     "text": [
      "O 7J72AK2JHL2O 7J72AK2L3KC28GJ572L AJLQ28GMJ2JJ2L 72OGJD62OGF67JKU\n",
      "PA8K83BL3KIM3PA8K83BL3M4LD39HK683MABKMR39HNK3KK3MA83PHKE73PHG78KLV\n",
      "QB9L94CM4LJN4QB9L94CM4N5ME4 IL794NBCLNS4 IOL4LL4NB94QILF84QIH89LMW\n",
      "RC M 5DN5MKO5RC M 5DN5O6NF5AJM8 5OCDMOT5AJPM5MM5OC 5RJMG95RJI9 MNX\n",
      "SDANA6EO6NLP6SDANA6EO6P7OG6BKN9A6PDENPU6BKQN6NN6PDA6SKNH 6SKJ ANOY\n",
      "TEBOB7FP7OMQ7TEBOB7FP7Q8PH7CLO B7QEFOQV7CLRO7OO7QEB7TLOIA7TLKABOPZ\n",
      "UFCPC8GQ8PNR8UFCPC8GQ8R9QI8DMPAC8RFGPRW8DMSP8PP8RFC8UMPJB8UMLBCPQ,\n",
      "VGDQD9HR9QOS9VGDQD9HR9S RJ9ENQBD9SGHQSX9ENTQ9QQ9SGD9VNQKC9VNMCDQR.\n",
      "WHERE IS RPT WHERE IS TASK FORCE THIRTY FOUR RR THE WORLD WONDERS?\n",
      "XIFSFAJTASQUAXIFSFAJTAUBTLAGPSDFAUIJSUZAGPVSASSAUIFAXPSMEAXPOEFST!\n",
      "YJGTGBKUBTRVBYJGTGBKUBVCUMBHQTEGBVJKTV,BHQWTBTTBVJGBYQTNFBYQPFGTU/\n",
      "ZKHUHCLVCUSWCZKHUHCLVCWDVNCIRUFHCWKLUW.CIRXUCUUCWKHCZRUOGCZRQGHUV0\n",
      ",LIVIDMWDVTXD,LIVIDMWDXEWODJSVGIDXLMVX?DJSYVDVVDXLID,SVPHD,SRHIVW1\n",
      ".MJWJENXEWUYE.MJWJENXEYFXPEKTWHJEYMNWY!EKTZWEWWEYMJE.TWQIE.TSIJWX2\n",
      "?NKXKFOYFXVZF?NKXKFOYFZGYQFLUXIKFZNOXZ/FLU,XFXXFZNKF?UXRJF?UTJKXY3\n",
      "!OLYLGPZGYW,G!OLYLGPZG,HZRGMVYJLG,OPY,0GMV.YGYYG,OLG!VYSKG!VUKLYZ4\n",
      "/PMZMHQ,HZX.H/PMZMHQ,H.I,SHNWZKMH.PQZ.1HNW?ZHZZH.PMH/WZTLH/WVLMZ,5\n",
      "0QN,NIR.I,Y?I0QN,NIR.I?J.TIOX,LNI?QR,?2IOX!,I,,I?QNI0X,UMI0XWMN,.6\n",
      "1RO.OJS?J.Z!J1RO.OJS?J!K?UJPY.MOJ!RS.!3JPY/.J..J!ROJ1Y.VNJ1YXNO.?7\n",
      "2SP?PKT!K?,/K2SP?PKT!K/L!VKQZ?NPK/ST?/4KQZ0?K??K/SPK2Z?WOK2ZYOP?!8\n",
      "3TQ!QLU/L!.0L3TQ!QLU/L0M/WLR,!OQL0TU!05LR,1!L!!L0TQL3,!XPL3,ZPQ!/9\n",
      "4UR/RMV0M/?1M4UR/RMV0M1N0XMS./PRM1UV/16MS.2/M//M1URM4./YQM4.,QR/0 \n",
      "5VS0SNW1N0!2N5VS0SNW1N2O1YNT?0QSN2VW027NT?30N00N2VSN5?0ZRN5?.RS01A\n",
      "6WT1TOX2O1/3O6WT1TOX2O3P2ZOU!1RTO3WX138OU!41O11O3WTO6!1,SO6!?ST12B\n",
      "7XU2UPY3P204P7XU2UPY3P4Q3,PV/2SUP4XY249PV/52P22P4XUP7/2.TP7/!TU23C\n",
      "8YV3VQZ4Q315Q8YV3VQZ4Q5R4.QW03TVQ5YZ35 QW063Q33Q5YVQ803?UQ80/UV34D\n",
      "9ZW4WR,5R426R9ZW4WR,5R6S5?RX14UWR6Z,46ARX174R44R6ZWR914!VR910VW45E\n",
      " ,X5XS.6S537S ,X5XS.6S7T6!SY25VXS7,.57BSY285S55S7,XS 25/WS 21WX56F\n",
      "A.Y6YT?7T648TA.Y6YT?7T8U7/TZ36WYT8.?68CTZ396T66T8.YTA360XTA32XY67G\n",
      "B?Z7ZU!8U759UB?Z7ZU!8U9V80U,47XZU9?!79DU,4 7U77U9?ZUB471YUB43YZ78H\n",
      "C!,8,V/9V86 VC!,8,V/9V W91V.58Y,V !/8 EV.5A8V88V !,VC582ZVC54Z,89I\n",
      "D/.9.W0 W97AWD/.9.W0 WAX 2W?69Z.WA/09AFW?6B9W99WA/.WD693,WD65,.9 J\n",
      "E0? ?X1AX 8BXE0? ?X1AXBYA3X!7 ,?XB01 BGX!7C X  XB0?XE7 4.XE76.? AK\n",
      "F1!A!Y2BYA9CYF1!A!Y2BYCZB4Y/8A.!YC12ACHY/8DAYAAYC1!YF8A5?YF87?!ABL\n",
      "G2/B/Z3CZB DZG2/B/Z3CZD,C5Z09B?/ZD23BDIZ09EBZBBZD2/ZG9B6!ZG98!/BCM\n",
      "H30C0,4D,CAE,H30C0,4D,E.D6,1 C!0,E34CEJ,1 FC,CC,E30,H C7/,H 9/0CDN\n",
      "I41D1.5E.DBF.I41D1.5E.F?E7.2AD/1.F45DFK.2AGD.DD.F41.IAD80.IA 01DEO\n",
      "J52E2?6F?ECG?J52E2?6F?G!F8?3BE02?G56EGL?3BHE?EE?G52?JBE91?JBA12EFP\n",
      "K63F3!7G!FDH!K63F3!7G!H/G9!4CF13!H67FHM!4CIF!FF!H63!KCF 2!KCB23FGQ\n",
      "L74G4/8H/GEI/L74G4/8H/I0H /5DG24/I78GIN/5DJG/GG/I74/LDGA3/LDC34GHR\n",
      "M85H509I0HFJ0M85H509I0J1IA06EH350J89HJO06EKH0HH0J850MEHB40MED45HIS\n",
      "N96I61 J1IGK1N96I61 J1K2JB17FI461K9 IKP17FLI1II1K961NFIC51NFE56IJT\n"
     ]
    }
   ],
   "source": [
    "for x in range(42):\n",
    "    print( caesar(ciphertext,x,alphabet=ALPHABET42) )"
   ]
  },
  {
   "cell_type": "markdown",
   "metadata": {},
   "source": [
    "## Dodgson cipher (aka Vigenère cipher, Bellaso cipher)\n",
    "\n",
    "This [polyalphabetic cipher](https://en.wikipedia.org/wiki/Polyalphabetic_cipher) shifts characters using modular arithmetic, but characters are not all shifted by the same amount. There are many possible passwords, so brute-force attacks are much harder.\n",
    "\n",
    "Choose a password, and be sure to use characters which are in the selected alphabet. The password is then repeated until it is the same length as the plaintext. Each integer $m_k$ in the plaintext is shifted\n",
    "$$\n",
    "m_k \\rightarrow (m_k+x_k) \\% 26\n",
    "$$\n",
    "where $x_k$ is the corresponding integer in the extended password."
   ]
  },
  {
   "cell_type": "code",
   "execution_count": 12,
   "metadata": {
    "collapsed": false
   },
   "outputs": [
    {
     "name": "stdout",
     "output_type": "stream",
     "text": [
      "[12, 4, 4, 19, 12, 4, 0, 19, 3, 0, 22, 13] \n",
      "\n",
      "[5, 8, 3, 4, 11, 8, 14, 5, 8, 3, 4, 11] \n",
      "\n",
      "[17, 12, 7, 23, 23, 12, 14, 24, 11, 3, 0, 24] \n",
      "\n",
      "RMHXXMOYLDAY \n",
      "\n",
      "[12, 4, 4, 19, 12, 4, 0, 19, 3, 0, 22, 13] \n",
      "\n",
      "MEETMEATDAWN\n"
     ]
    }
   ],
   "source": [
    "digits = text_to_digits('MEETMEATDAWN',ALPHABET26)\n",
    "print(digits,'\\n')\n",
    "\n",
    "extended_password = text_to_digits('FIDELIOFIDEL',ALPHABET26)\n",
    "print(extended_password,'\\n')\n",
    "\n",
    "cipher = [ (digits[k] + extended_password[k]) % 26 for k in range(len(digits)) ]\n",
    "print(cipher,'\\n')\n",
    "\n",
    "ciphertext = digits_to_text(cipher,ALPHABET26)\n",
    "print(ciphertext,'\\n')\n",
    "\n",
    "decipher = [ (cipher[k] - extended_password[k]) % 26 for k in range(len(digits)) ]\n",
    "print(decipher,'\\n')\n",
    "\n",
    "plaintext = digits_to_text(decipher,ALPHABET26)\n",
    "print(plaintext)"
   ]
  },
  {
   "cell_type": "code",
   "execution_count": 13,
   "metadata": {
    "collapsed": false
   },
   "outputs": [
    {
     "name": "stdout",
     "output_type": "stream",
     "text": [
      "}qiwqIxyIvu\"I(nnvjLr$F}exwIuu{gjL}wo{x Lo {{Dw I%nnD|{{{jI{tzmtx|c\n",
      "WHERE IS RPT WHERE IS TASK FORCE THIRTY FOUR RR THE WORLD WONDERS?\n"
     ]
    }
   ],
   "source": [
    "# Try the original message and default alphabet\n",
    "ciphertext = dodgson(message,'FIDELIO')\n",
    "print(ciphertext)\n",
    "plaintext = dodgson(ciphertext,'FIDELIO',decrypt=True)\n",
    "print(plaintext)"
   ]
  },
  {
   "cell_type": "code",
   "execution_count": 14,
   "metadata": {
    "collapsed": false
   },
   "outputs": [
    {
     "data": {
      "text/plain": [
       "'l_Vc\\\\8ff5adn6rY]dW8]q4jQcf7bafVX9ib^iej7^lhg/fl6oY]2igfjX6g_i[adgR'"
      ]
     },
     "execution_count": 14,
     "metadata": {},
     "output_type": "execute_result"
    }
   ],
   "source": [
    "# Let's try guessing the password\n",
    "dodgson(ciphertext,'12345',decrypt=True)"
   ]
  },
  {
   "cell_type": "code",
   "execution_count": 15,
   "metadata": {
    "collapsed": false
   },
   "outputs": [
    {
     "name": "stdout",
     "output_type": "stream",
     "text": [
      ")+:G>0=91dc&aL=>b9dZe3&$H@wVC8TW3&+>GMir,`geP5GsMX9dhae|'sLH^8+ceR\n",
      "7HERE?IS RP4 WHEqE IS 4ASK eORCE 4HIRTx FOUR^RR TgE WOR,D WOmDERS?\n"
     ]
    }
   ],
   "source": [
    "# Caution: an almost-correct password can recover most of the message\n",
    "ciphertext = dodgson(message,'Passw0rd123')\n",
    "print(ciphertext)\n",
    "plaintext = dodgson(ciphertext,'password123',decrypt=True)\n",
    "print(plaintext)"
   ]
  }
 ],
 "metadata": {
  "anaconda-cloud": {},
  "kernelspec": {
   "display_name": "Python [conda root]",
   "language": "python",
   "name": "conda-root-py"
  },
  "language_info": {
   "codemirror_mode": {
    "name": "ipython",
    "version": 3
   },
   "file_extension": ".py",
   "mimetype": "text/x-python",
   "name": "python",
   "nbconvert_exporter": "python",
   "pygments_lexer": "ipython3",
   "version": "3.5.2"
  }
 },
 "nbformat": 4,
 "nbformat_minor": 1
}
